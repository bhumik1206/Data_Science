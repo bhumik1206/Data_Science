{
 "cells": [
  {
   "cell_type": "code",
   "execution_count": null,
   "metadata": {},
   "outputs": [],
   "source": [
    "#static program as asked in question."
   ]
  },
  {
   "cell_type": "code",
   "execution_count": 4,
   "metadata": {},
   "outputs": [
    {
     "name": "stdout",
     "output_type": "stream",
     "text": [
      "* \n",
      "** \n",
      "*** \n",
      "**** \n",
      "***** \n",
      "**** \n",
      "*** \n",
      "** \n",
      "* \n"
     ]
    }
   ],
   "source": [
    "for i in range(0,5):\n",
    "    for j in range(0,i+1):\n",
    "        print('*',end='')\n",
    "    \n",
    "    print(\" \")\n",
    "for i in range(4,0,-1):\n",
    "    for j in range(i,0,-1):\n",
    "        print('*',end='')\n",
    "    \n",
    "    print(\" \")"
   ]
  },
  {
   "cell_type": "code",
   "execution_count": 5,
   "metadata": {},
   "outputs": [],
   "source": [
    "#dynamic program for the same"
   ]
  },
  {
   "cell_type": "code",
   "execution_count": 8,
   "metadata": {},
   "outputs": [
    {
     "name": "stdout",
     "output_type": "stream",
     "text": [
      "Enter number of rows:11\n",
      "* \n",
      "** \n",
      "*** \n",
      "**** \n",
      "***** \n",
      "****** \n",
      "***** \n",
      "**** \n",
      "*** \n",
      "** \n",
      "* \n"
     ]
    }
   ],
   "source": [
    "n=int(input(\"Enter number of rows:\"))\n",
    "\n",
    "a=int((n/2)+1)\n",
    "\n",
    "b=int(n/2)\n",
    "\n",
    "for i in range(0,a):\n",
    "    for j in range(0,i+1):\n",
    "        print('*',end='')\n",
    "    \n",
    "    print(\" \")\n",
    "for i in range(b,0,-1):\n",
    "    for j in range(i,0,-1):\n",
    "        print('*',end='')\n",
    "    \n",
    "    print(\" \")"
   ]
  },
  {
   "cell_type": "code",
   "execution_count": null,
   "metadata": {},
   "outputs": [],
   "source": []
  },
  {
   "cell_type": "code",
   "execution_count": null,
   "metadata": {},
   "outputs": [],
   "source": []
  },
  {
   "cell_type": "code",
   "execution_count": 9,
   "metadata": {},
   "outputs": [],
   "source": [
    "#program to reverse string"
   ]
  },
  {
   "cell_type": "code",
   "execution_count": 13,
   "metadata": {},
   "outputs": [
    {
     "name": "stdout",
     "output_type": "stream",
     "text": [
      "Enter a word:bhumik\n",
      "kimuhb\n"
     ]
    }
   ],
   "source": [
    "word=input(\"Enter a word:\")\n",
    "\n",
    "a=word[::-1]\n",
    "print(a)"
   ]
  },
  {
   "cell_type": "code",
   "execution_count": 20,
   "metadata": {},
   "outputs": [
    {
     "name": "stdout",
     "output_type": "stream",
     "text": [
      "Enter a word:bhumik\n",
      "kimuhb\n"
     ]
    }
   ],
   "source": [
    "word=input(\"Enter a word:\")\n",
    "rev=\"\"\n",
    "n=len(word)\n",
    "j=n-1\n",
    "for i in range(0,n):\n",
    "    rev = rev + word[j]\n",
    "    j=j-1\n",
    "print(rev)"
   ]
  }
 ],
 "metadata": {
  "kernelspec": {
   "display_name": "Python 3",
   "language": "python",
   "name": "python3"
  },
  "language_info": {
   "codemirror_mode": {
    "name": "ipython",
    "version": 3
   },
   "file_extension": ".py",
   "mimetype": "text/x-python",
   "name": "python",
   "nbconvert_exporter": "python",
   "pygments_lexer": "ipython3",
   "version": "3.8.5"
  }
 },
 "nbformat": 4,
 "nbformat_minor": 4
}
